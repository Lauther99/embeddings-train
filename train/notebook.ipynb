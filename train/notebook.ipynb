{
 "cells": [
  {
   "cell_type": "code",
   "execution_count": 24,
   "metadata": {},
   "outputs": [],
   "source": [
    "from sentence_transformers import SentenceTransformer\n",
    "from sklearn.metrics.pairwise import cosine_similarity\n",
    "\n",
    "# Download from the 🤗 Hub\n",
    "model = SentenceTransformer(\"Lauther/d4-embeddings-v2.0\")"
   ]
  },
  {
   "cell_type": "code",
   "execution_count": 26,
   "metadata": {},
   "outputs": [
    {
     "name": "stdout",
     "output_type": "stream",
     "text": [
      "(4, 4)\n",
      "[[1.         0.44689536 0.5141099  0.96432227]\n",
      " [0.44689536 0.99999994 0.7507417  0.30573517]\n",
      " [0.5141099  0.7507417  0.99999976 0.30236965]\n",
      " [0.96432227 0.30573517 0.30236965 1.        ]]\n"
     ]
    }
   ],
   "source": [
    "sentences = [\n",
    "    'flow rate',\n",
    "    'What is a flow computer?\\nA flow computer is a device used in measurement engineering. It collects analog and digital data from flow meters and other sensors.\\n\\nKey features of a flow computer:\\n- It has a unique name, firmware version, and manufacturer information.\\n- It is designed to record and process data such as temperature, pressure, and fluid volume (for gases or oils).',\n",
    "    'What is a Fluid?\\nA Fluid is the substance measured within a measurement system. It can be a gas or liquid, such as hydrocarbons, water, or other industrial fluids. Proper classification of fluids is essential for ensuring measurement accuracy, regulatory compliance, and operational efficiency. By identifying fluids correctly, the system applies the appropriate measurement techniques, processing methods, and reporting standards.',\n",
    "    '''What is a Measured Magnitude Value?\n",
    "A Measured Magnitude Value represents a **DAILY** recorded physical measurement of a variable within a monitored fluid. These values are essential for tracking system performance, analyzing trends, and ensuring accurate monitoring of fluid properties.\n",
    "\n",
    "Key Aspects of a Measured Magnitude Value:\n",
    "- Measurement Date: The timestamp indicating when the measurement was recorded.\n",
    "- Measured Value: The daily numeric result of the recorded physical magnitude.\n",
    "- Measurement System Association: Links the measured value to a specific measurement system responsible for capturing the data.\n",
    "- Variable Association: Identifies the specific variable (e.g., temperature, pressure, flow rate) corresponding to the recorded value.\n",
    "Measured magnitude values are crucial for real-time monitoring, historical analysis, and calibration processes within measurement systems.\n",
    "\n",
    "Database advices:\n",
    "This values also are in **historics of a flow computer report**. Although, to go directly instead querying the flow computer report you can do it by going to the table of variables data in the database.'''\n",
    "]\n",
    "embeddings = model.encode(sentences, convert_to_numpy=True)\n",
    "\n",
    "similarities = cosine_similarity(embeddings)\n",
    "\n",
    "print(similarities.shape)  # (3, 3)\n",
    "print(similarities)"
   ]
  }
 ],
 "metadata": {
  "kernelspec": {
   "display_name": "venv",
   "language": "python",
   "name": "python3"
  },
  "language_info": {
   "codemirror_mode": {
    "name": "ipython",
    "version": 3
   },
   "file_extension": ".py",
   "mimetype": "text/x-python",
   "name": "python",
   "nbconvert_exporter": "python",
   "pygments_lexer": "ipython3",
   "version": "3.11.0"
  }
 },
 "nbformat": 4,
 "nbformat_minor": 2
}
