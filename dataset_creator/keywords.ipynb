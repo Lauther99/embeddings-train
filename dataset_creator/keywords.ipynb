{
 "cells": [
  {
   "cell_type": "code",
   "execution_count": 1,
   "metadata": {},
   "outputs": [],
   "source": [
    "\n",
    "import sys\n",
    "\n",
    "sys.path.append(\n",
    "    \"C:\\\\Users\\\\lauth\\\\OneDrive\\\\Desktop\\\\LLM Assistant File - V2\\\\assistant\\\\sql_assistant_v3\\\\\"\n",
    ")\n",
    "\n",
    "sys.path.append(\n",
    "    \"C:\\\\Users\\\\lauth\\\\OneDrive\\\\Desktop\\\\LLM Assistant File - V2\\\\fine_tuning\\\\embeddings\\\\\"\n",
    ")\n",
    "\n",
    "\n",
    "from src.components.tools.base.tools import action\n",
    "from notebooks.multi_agent.base import ChatMessage, ChatTemplate"
   ]
  },
  {
   "cell_type": "code",
   "execution_count": null,
   "metadata": {},
   "outputs": [],
   "source": [
    "from utils.utils import save_excel"
   ]
  },
  {
   "cell_type": "code",
   "execution_count": null,
   "metadata": {},
   "outputs": [],
   "source": [
    "batch_requests = [\n",
    "    \"the last uncertainty report for temperature in the measurement system with tag EMED-3138.12-050\", #3\n",
    "    \"the last uncertainty report for temperature in the equipment with tag EMED-3138.12-050-TT\",# 5\n",
    "    \"the lastest uncertainty reports for the temperature and differential pressure measured in the measurement system with tag EMED-3138.12-050\",# 8\n",
    "    \"the last uncertainty report for differential pressure in the equipment with tag EMED-3138.12-050-DPT\",# 9\n",
    "    \"latest uncertainty value registered for the differential pressure in the measurement system with **tag** EMED-3138.12-050\",# 11\n",
    "    \"the most recent uncertainty result for the specific measurement system with tag EMED-3102-02-010\",# 14\n",
    "    \"the uncertainty result for the specific measurement measurement system tagged as EMED-3102-02-010 at July 28th in 2023\",# 21\n",
    "    \"the flow rate uncertainty fingerprint points for the curve of uncertainty with certificate number EMED-010-1\",# 22\n",
    "    \"the initial conditions of static pressure, differential pressure, temperature and flow rate volume for uncertainty of the measurement measurement system with tag EMED-3102-02-010 at July 28th in 2023\"# 25\n",
    "]"
   ]
  }
 ],
 "metadata": {
  "kernelspec": {
   "display_name": "venv",
   "language": "python",
   "name": "python3"
  },
  "language_info": {
   "codemirror_mode": {
    "name": "ipython",
    "version": 3
   },
   "file_extension": ".py",
   "mimetype": "text/x-python",
   "name": "python",
   "nbconvert_exporter": "python",
   "pygments_lexer": "ipython3",
   "version": "3.11.5"
  }
 },
 "nbformat": 4,
 "nbformat_minor": 2
}
